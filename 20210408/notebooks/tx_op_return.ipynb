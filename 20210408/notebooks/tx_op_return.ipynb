{
 "cells": [
  {
   "cell_type": "code",
   "execution_count": 1,
   "id": "nuclear-specification",
   "metadata": {},
   "outputs": [],
   "source": [
    "import * as bitcoin from \"bitcoinjs-lib\"\n",
    "import { ECPair, networks, Psbt } from \"bitcoinjs-lib\"\n",
    "import { RegtestUtils } from \"regtest-client\""
   ]
  },
  {
   "cell_type": "code",
   "execution_count": 2,
   "id": "vulnerable-phase",
   "metadata": {},
   "outputs": [],
   "source": [
    "const client = new RegtestUtils({APIURL: \"http://localhost:18222/1\"})"
   ]
  },
  {
   "cell_type": "code",
   "execution_count": 3,
   "id": "instructional-possible",
   "metadata": {},
   "outputs": [],
   "source": [
    "async function createPayment(wif: string) {\n",
    "    const keypairs = ECPair.fromWIF(wif, networks.regtest)\n",
    "    const p2pkh = bitcoin.payments.p2pkh({pubkey: keypairs.publicKey, network: networks.regtest})\n",
    "    return {\n",
    "        payment: p2pkh,\n",
    "        keys: keypairs\n",
    "    }\n",
    "}"
   ]
  },
  {
   "cell_type": "code",
   "execution_count": 4,
   "id": "cardiovascular-cholesterol",
   "metadata": {},
   "outputs": [],
   "source": [
    "function getWitnessUtxo(out: any): any {\n",
    "  delete out.address;\n",
    "  out.script = Buffer.from(out.script, 'hex');\n",
    "  return out;\n",
    "}\n",
    "\n",
    "async function createInput(utils: RegtestUtils, sender: any, amount: number) {\n",
    "    const unspent = await utils.faucetComplex(sender.output, amount)\n",
    "    const utx = await utils.fetch(unspent.txId);\n",
    "    const nonWitnessUtxo = Buffer.from(utx.txHex, 'hex');\n",
    "    return {\n",
    "     hash: unspent.txId,\n",
    "     index: unspent.vout,\n",
    "     nonWitnessUtxo\n",
    "    };\n",
    "}"
   ]
  },
  {
   "cell_type": "code",
   "execution_count": 8,
   "id": "fuzzy-bundle",
   "metadata": {},
   "outputs": [],
   "source": [
    "const requester = await createPayment(\"93Dt9qVXNDyMcLR9Wq5QRS72pUtG1eQ1CtFLd36kM2qntvThQE3\")"
   ]
  },
  {
   "cell_type": "code",
   "execution_count": 9,
   "id": "answering-sudan",
   "metadata": {},
   "outputs": [],
   "source": [
    "const input = await createInput(client, requester.payment, 2e6)\n",
    "const data = bitcoin.payments.embed({data: [ Buffer.from(\"hello, world\", \"utf-8\")]})"
   ]
  },
  {
   "cell_type": "code",
   "execution_count": 11,
   "id": "contained-karen",
   "metadata": {},
   "outputs": [
    {
     "name": "stdout",
     "output_type": "stream",
     "text": [
      "\u001b[33mtrue\u001b[39m\n"
     ]
    }
   ],
   "source": [
    "const tx = new Psbt({ network: networks.regtest});\n",
    "tx.setVersion(2)\n",
    "    .setLocktime(0)\n",
    "    .addInput(input)\n",
    "    .addOutput({\n",
    "        address: \"mhNzyD5ZdQZ38WSdRftnzE16msN96fmXpe\",\n",
    "        value: 2e4\n",
    "    })\n",
    "    .addOutput({\n",
    "        script: data.output!,\n",
    "        value: 0\n",
    "    })\n",
    "    .signAllInputs(requester.keys).validateSignaturesOfAllInputs();"
   ]
  },
  {
   "cell_type": "code",
   "execution_count": 12,
   "id": "ancient-breast",
   "metadata": {},
   "outputs": [],
   "source": [
    "const raw_tx = await tx.finalizeAllInputs().extractTransaction(true).toHex();"
   ]
  },
  {
   "cell_type": "code",
   "execution_count": 13,
   "id": "significant-phrase",
   "metadata": {},
   "outputs": [
    {
     "name": "stdout",
     "output_type": "stream",
     "text": [
      "0200000001b7edeeb0d5c994bd3a564764d3ad4cf379c4a2b2192cf0005f83d8de58ffa508000000008b48304502210083a1b4666713abd86391a2a0b6b991931be7b7823243f6528bba6977cafbd19102204304a047198566738037e6d9f44000a759024c0d564ffbb24a51c8aa470f14f9014104c226c854246153a52226ea043de19a32f2e40bdb8c7b347381d527a96eefa3dcbfdc874c6f4e83224320477b898d332b4d990a62d927163631420765ef448accffffffff02204e0000000000001976a914146f282c2297b9f5dcfe66897eccc74d29eed56188ac00000000000000000e6a0c68656c6c6f2c20776f726c6400000000\n"
     ]
    }
   ],
   "source": [
    "raw_tx"
   ]
  },
  {
   "cell_type": "code",
   "execution_count": 14,
   "id": "grateful-schedule",
   "metadata": {},
   "outputs": [],
   "source": [
    "await client.broadcast(raw_tx)"
   ]
  },
  {
   "cell_type": "markdown",
   "id": "religious-future",
   "metadata": {},
   "source": [
    "Transaction: [Typical Script](https://learnmeabitcoin.com/technical/scriptPubKey)"
   ]
  },
  {
   "cell_type": "code",
   "execution_count": 16,
   "id": "knowing-ability",
   "metadata": {},
   "outputs": [
    {
     "name": "stdout",
     "output_type": "stream",
     "text": [
      "\u001b[33m432\u001b[39m\n"
     ]
    }
   ],
   "source": [
    "await client.height()"
   ]
  },
  {
   "cell_type": "code",
   "execution_count": 17,
   "id": "periodic-globe",
   "metadata": {},
   "outputs": [
    {
     "name": "stdout",
     "output_type": "stream",
     "text": [
      "[ \u001b[32m'25a0d0a186ec94980e6185f50a6132cdf52449fbe0436c48aea2b690f9dfc326'\u001b[39m ]\n"
     ]
    }
   ],
   "source": [
    "await client.mine(1)"
   ]
  },
  {
   "cell_type": "code",
   "execution_count": 21,
   "id": "responsible-influence",
   "metadata": {},
   "outputs": [
    {
     "name": "stdout",
     "output_type": "stream",
     "text": [
      "[\n",
      "  {\n",
      "    txId: \u001b[32m'986136b5468c02cf44e2e50afc6fc2b7b5c5c169f6ae82cec652f258e5dde4f1'\u001b[39m,\n",
      "    vout: \u001b[33m0\u001b[39m,\n",
      "    height: \u001b[33m433\u001b[39m,\n",
      "    value: \u001b[33m20000\u001b[39m\n",
      "  }\n",
      "]\n"
     ]
    }
   ],
   "source": [
    "await client.unspents(\"mhNzyD5ZdQZ38WSdRftnzE16msN96fmXpe\")"
   ]
  }
 ],
 "metadata": {
  "kernelspec": {
   "display_name": "TypeScript",
   "language": "typescript",
   "name": "tslab"
  },
  "language_info": {
   "codemirror_mode": {
    "mode": "typescript",
    "name": "javascript",
    "typescript": true
   },
   "file_extension": ".ts",
   "mimetype": "text/typescript",
   "name": "typescript",
   "version": "3.7.2"
  }
 },
 "nbformat": 4,
 "nbformat_minor": 5
}
