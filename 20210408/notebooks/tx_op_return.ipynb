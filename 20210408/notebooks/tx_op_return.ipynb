{
 "cells": [
  {
   "cell_type": "markdown",
   "id": "approved-medline",
   "metadata": {
    "slideshow": {
     "slide_type": "slide"
    },
    "tags": []
   },
   "source": [
    "# BTC交易结构简介与构造"
   ]
  },
  {
   "cell_type": "markdown",
   "id": "extensive-relation",
   "metadata": {
    "slideshow": {
     "slide_type": "fragment"
    },
    "tags": []
   },
   "source": [
    "_2020-04-08 王亚飞_"
   ]
  },
  {
   "cell_type": "markdown",
   "id": "abroad-spoke",
   "metadata": {
    "slideshow": {
     "slide_type": "subslide"
    },
    "tags": []
   },
   "source": [
    "前置知识：UTXO模型, 公私钥, WIF, PSBT"
   ]
  },
  {
   "cell_type": "markdown",
   "id": "accurate-optics",
   "metadata": {
    "slideshow": {
     "slide_type": "slide"
    },
    "tags": []
   },
   "source": [
    "## 基本结构"
   ]
  },
  {
   "cell_type": "markdown",
   "id": "minus-america",
   "metadata": {
    "slideshow": {
     "slide_type": "subslide"
    },
    "tags": []
   },
   "source": [
    "![btc_overview](https://ae01.alicdn.com/kf/H9b8f12ec080945ee8364ba05ff6c5a69a.png)"
   ]
  },
  {
   "cell_type": "markdown",
   "id": "solar-yellow",
   "metadata": {
    "slideshow": {
     "slide_type": "slide"
    },
    "tags": []
   },
   "source": [
    "## 交易字段"
   ]
  },
  {
   "cell_type": "markdown",
   "id": "simplified-fever",
   "metadata": {
    "slideshow": {
     "slide_type": "subslide"
    },
    "tags": []
   },
   "source": [
    "![fields](https://ae01.alicdn.com/kf/H329f3b8bea4847f6b9c39be287bd5ce33.png)"
   ]
  },
  {
   "cell_type": "markdown",
   "id": "recovered-champagne",
   "metadata": {
    "slideshow": {
     "slide_type": "slide"
    },
    "tags": []
   },
   "source": [
    "## 例子"
   ]
  },
  {
   "cell_type": "code",
   "execution_count": 64,
   "id": "demographic-compilation",
   "metadata": {
    "jupyter": {
     "source_hidden": true
    },
    "slideshow": {
     "slide_type": "subslide"
    },
    "tags": []
   },
   "outputs": [
    {
     "data": {
      "text/html": [
       "<style>\n",
       ".wrap {\n",
       "    overflow: wrap;\n",
       "}\n",
       ".version:hover {\n",
       "    background: red;\n",
       "}\n",
       ".inputcount:hover{\n",
       "    color: red;\n",
       "}\n",
       ".input > .txid:hover {\n",
       "    background:#8f6f2f;\n",
       "}\n",
       ".input > .vout:hover {\n",
       "    color:yellow;\n",
       "}\n",
       ".input > .scriptSigsize:hover {\n",
       "    color: orange;\n",
       "}\n",
       ".input > .scriptSig:hover {\n",
       "    background: green;\n",
       "}\n",
       ".input > .sequence:hover {\n",
       "    background: blue;\n",
       "}\n",
       ".outputcount:hover {\n",
       "    color: red\n",
       "}\n",
       "\n",
       ".output > .value:hover {\n",
       "    background: #2ed41e;\n",
       "}\n",
       ".output > .scriptPubKeysize:hover {\n",
       "    color: #d34e9d;\n",
       "}\n",
       ".output > .scriptPubKey:hover {\n",
       "    background: #9d2e1c;\n",
       "}\n",
       ".locktime:hover {\n",
       "    background: blue;\n",
       "}\n",
       "</style>\n",
       "<pre><div class=\"wrap\" style=\"background:#363636; color: white\"><span class=\"version\" alt=\"version\">01000000</span><span class=\"inputcount\">01</span><span class=\"input\"><span class=\"txid\">7967a5185e907a25225574544c31f7b059c1a191d65b53dcc1554d339c4f9efc</span><span class=\"vout\">01000000</span><span class=\"scriptSigsize\">6a</span><span class=\"scriptSig\">47304402206a2eb16b7b92051d0fa38c133e67684ed064effada1d7f925c842da401d4f22702201f196b10e6e4b4a9fff948e5c5d71ec5da53e90529c8dbd122bff2b1d21dc8a90121039b7bcd0824b9a9164f7ba098408e63e5b7e3cf90835cceb19868f54f8961a825</span><span class=\"sequence\">ffffffff</span></span><span class=\"outputcount\">01</span><span class=\"output\"><span class=\"value\">4baf210000000000</span><span class=\"scriptPubKeysize\">19</span><span class=\"scriptPubKey\">76a914db4d1141d0048b1ed15839d0b7a4c488cd368b0e88ac</span></span><span class=\"locktime\">00000000</span></div></pre>"
      ]
     },
     "metadata": {},
     "output_type": "display_data"
    }
   ],
   "source": [
    "import {display} from 'tslab';\n",
    "\n",
    "display.html(`<style>\n",
    ".wrap {\n",
    "    overflow: wrap;\n",
    "}\n",
    ".version:hover {\n",
    "    background: red;\n",
    "}\n",
    ".inputcount:hover{\n",
    "    color: red;\n",
    "}\n",
    ".input > .txid:hover {\n",
    "    background:#8f6f2f;\n",
    "}\n",
    ".input > .vout:hover {\n",
    "    color:yellow;\n",
    "}\n",
    ".input > .scriptSigsize:hover {\n",
    "    color: orange;\n",
    "}\n",
    ".input > .scriptSig:hover {\n",
    "    background: green;\n",
    "}\n",
    ".input > .sequence:hover {\n",
    "    background: blue;\n",
    "}\n",
    ".outputcount:hover {\n",
    "    color: red\n",
    "}\n",
    "\n",
    ".output > .value:hover {\n",
    "    background: #2ed41e;\n",
    "}\n",
    ".output > .scriptPubKeysize:hover {\n",
    "    color: #d34e9d;\n",
    "}\n",
    ".output > .scriptPubKey:hover {\n",
    "    background: #9d2e1c;\n",
    "}\n",
    ".locktime:hover {\n",
    "    background: blue;\n",
    "}\n",
    "</style>\n",
    "<pre><div class=\"wrap\" style=\"background:#363636; color: white\"><span class=\"version\" alt=\"version\">01000000</span><span class=\"inputcount\">01</span><span class=\"input\"><span class=\"txid\">7967a5185e907a25225574544c31f7b059c1a191d65b53dcc1554d339c4f9efc</span><span class=\"vout\">01000000</span><span class=\"scriptSigsize\">6a</span><span class=\"scriptSig\">47304402206a2eb16b7b92051d0fa38c133e67684ed064effada1d7f925c842da401d4f22702201f196b10e6e4b4a9fff948e5c5d71ec5da53e90529c8dbd122bff2b1d21dc8a90121039b7bcd0824b9a9164f7ba098408e63e5b7e3cf90835cceb19868f54f8961a825</span><span class=\"sequence\">ffffffff</span></span><span class=\"outputcount\">01</span><span class=\"output\"><span class=\"value\">4baf210000000000</span><span class=\"scriptPubKeysize\">19</span><span class=\"scriptPubKey\">76a914db4d1141d0048b1ed15839d0b7a4c488cd368b0e88ac</span></span><span class=\"locktime\">00000000</span></div></pre>`)"
   ]
  },
  {
   "cell_type": "markdown",
   "id": "substantial-terminology",
   "metadata": {
    "slideshow": {
     "slide_type": "fragment"
    },
    "tags": []
   },
   "source": [
    "![details](https://learnmeabitcoin.com/technical/images/transaction-data/transaction-data.gif)"
   ]
  },
  {
   "cell_type": "markdown",
   "id": "polish-upper",
   "metadata": {
    "slideshow": {
     "slide_type": "slide"
    },
    "tags": []
   },
   "source": [
    "## 交易与锁"
   ]
  },
  {
   "cell_type": "markdown",
   "id": "iraqi-jersey",
   "metadata": {
    "slideshow": {
     "slide_type": "subslide"
    },
    "tags": []
   },
   "source": [
    "在交易中我们常常会提到签名，实质上是提供一个解锁脚本使之对应在input中制定的vout的解锁脚本。简而言之，解锁的过程如下："
   ]
  },
  {
   "cell_type": "markdown",
   "id": "professional-investigator",
   "metadata": {
    "slideshow": {
     "slide_type": "fragment"
    },
    "tags": []
   },
   "source": [
    "'message'_ori ---private key---> signature ---public key---> 'message'_dec"
   ]
  },
  {
   "cell_type": "markdown",
   "id": "resident-banking",
   "metadata": {
    "slideshow": {
     "slide_type": "fragment"
    },
    "tags": []
   },
   "source": [
    "这样我们可以验证解码的消息是否和原始消息一致来验证公私钥是否匹配。（ps， 上图过程可逆， 同时也是非对称加密的基本过程，ssh, ssl等也建立于之上。）"
   ]
  },
  {
   "cell_type": "markdown",
   "id": "cleared-ozone",
   "metadata": {
    "slideshow": {
     "slide_type": "slide"
    },
    "tags": []
   },
   "source": [
    "## 交易类型"
   ]
  },
  {
   "cell_type": "markdown",
   "id": "hybrid-singing",
   "metadata": {
    "slideshow": {
     "slide_type": "subslide"
    },
    "tags": []
   },
   "source": [
    "这里声明三个观念：\n",
    "- private key：一个数字（通常会通过素性检验）\n",
    "- public key: 一个和private key匹配的另一个数字（通常也会通过素性检验）\n",
    "- address: public key的hash"
   ]
  },
  {
   "cell_type": "markdown",
   "id": "suffering-premium",
   "metadata": {
    "slideshow": {
     "slide_type": "subslide"
    },
    "tags": []
   },
   "source": [
    "下面列出一些常见的lockScript：\n",
    "### Pay to Public key\n",
    "```\n",
    "04a9d6840fdd1497b3067b8066db783acf90bf42071a38fe2cf6d2d8a04835d0b5c45716d8d6012ab5d56c7824c39718f7bc7486d389cd0047f53785f9a63c0c9d OP_CHECKSIG\n",
    "```\n",
    "### Pay to Publib Key Hash\n",
    "```\n",
    "OP_DUP OP_HASH160 fde0a08625e327ba400644ad62d5c571d2eec3de OP_EQUALVERIFY OP_CHECKSIG\n",
    "```\n",
    "\n",
    "### Pay to MultiSig\n",
    "```\n",
    "OP_1 0378ee11c3fb97054877a809ce083db292b16d971bcdc6aa4c8f92087133729d8b 1283b5fbf5cc62d4399dfa1025c3e306295264494722c5085ceadadf1291f68125 a31752c9f17c628edc4c69c4c0846f8d814b21e046eabe06f9968a037ce0741c74 OP_3 OP_CHECKMULTISIG\n",
    "```\n",
    "\n",
    "### Pay to Script Hash\n",
    "```\n",
    "OP_HASH160 10b0ed2d1698ff0f0ea151cf41988d05b728746a OP_EQUAL\n",
    "```\n",
    "\n",
    "### Null Data\n",
    "```\n",
    "OP_RETURN 68656c6c6f20776f726c64\n",
    "```"
   ]
  },
  {
   "cell_type": "markdown",
   "id": "overhead-evans",
   "metadata": {
    "slideshow": {
     "slide_type": "subslide"
    },
    "tags": []
   },
   "source": [
    "## The Stack\n",
    "![Stack](https://ae05.alicdn.com/kf/H3f2b1181af9f41b291ebc530205531e4J.png)"
   ]
  },
  {
   "cell_type": "code",
   "execution_count": 1,
   "id": "sorted-seventh",
   "metadata": {
    "slideshow": {
     "slide_type": "slide"
    },
    "tags": []
   },
   "outputs": [],
   "source": [
    "import * as bitcoin from \"bitcoinjs-lib\"\n",
    "import { ECPair, networks, Psbt } from \"bitcoinjs-lib\"\n",
    "import { RegtestUtils } from \"regtest-client\""
   ]
  },
  {
   "cell_type": "code",
   "execution_count": 2,
   "id": "annoying-india",
   "metadata": {
    "slideshow": {
     "slide_type": "subslide"
    },
    "tags": []
   },
   "outputs": [],
   "source": [
    "const client = new RegtestUtils({APIURL: \"http://localhost:18222/1\"})"
   ]
  },
  {
   "cell_type": "code",
   "execution_count": 3,
   "id": "bearing-beauty",
   "metadata": {
    "slideshow": {
     "slide_type": "fragment"
    },
    "tags": []
   },
   "outputs": [],
   "source": [
    "async function createPayment(wif: string) {\n",
    "    const keypairs = ECPair.fromWIF(wif, networks.regtest)\n",
    "    const p2pkh = bitcoin.payments.p2pkh({pubkey: keypairs.publicKey, network: networks.regtest})\n",
    "    return {\n",
    "        payment: p2pkh,\n",
    "        keys: keypairs\n",
    "    }\n",
    "}"
   ]
  },
  {
   "cell_type": "code",
   "execution_count": 4,
   "id": "cross-decrease",
   "metadata": {
    "slideshow": {
     "slide_type": "subslide"
    },
    "tags": []
   },
   "outputs": [],
   "source": [
    "async function createInput(utils: RegtestUtils, sender: any, amount: number) {\n",
    "    const unspent = await utils.faucetComplex(sender.output, amount)\n",
    "    const utx = await utils.fetch(unspent.txId);\n",
    "    const nonWitnessUtxo = Buffer.from(utx.txHex, 'hex');\n",
    "    return {\n",
    "     hash: unspent.txId,\n",
    "     index: unspent.vout,\n",
    "     nonWitnessUtxo\n",
    "    };\n",
    "}"
   ]
  },
  {
   "cell_type": "code",
   "execution_count": 5,
   "id": "bearing-shanghai",
   "metadata": {
    "slideshow": {
     "slide_type": "fragment"
    },
    "tags": []
   },
   "outputs": [],
   "source": [
    "const requester = await createPayment(\"93Dt9qVXNDyMcLR9Wq5QRS72pUtG1eQ1CtFLd36kM2qntvThQE3\")"
   ]
  },
  {
   "cell_type": "code",
   "execution_count": 6,
   "id": "demonstrated-receiver",
   "metadata": {
    "slideshow": {
     "slide_type": "fragment"
    },
    "tags": []
   },
   "outputs": [],
   "source": [
    "const input = await createInput(client, requester.payment, 2e6)\n",
    "const data = bitcoin.payments.embed({data: [ Buffer.from(\"hello, world\", \"utf-8\")]})"
   ]
  },
  {
   "cell_type": "code",
   "execution_count": 7,
   "id": "random-surfing",
   "metadata": {
    "slideshow": {
     "slide_type": "subslide"
    },
    "tags": []
   },
   "outputs": [
    {
     "name": "stdout",
     "output_type": "stream",
     "text": [
      "\u001b[33mtrue\u001b[39m\n"
     ]
    }
   ],
   "source": [
    "const tx = new Psbt({ network: networks.regtest});\n",
    "tx.setVersion(2)\n",
    "    .setLocktime(0)\n",
    "    .addInput(input)\n",
    "    .addOutput({\n",
    "        address: \"mhNzyD5ZdQZ38WSdRftnzE16msN96fmXpe\",\n",
    "        value: 2e4\n",
    "    })\n",
    "    .addOutput({\n",
    "        script: data.output!,\n",
    "        value: 0\n",
    "    })\n",
    "    .signAllInputs(requester.keys).validateSignaturesOfAllInputs();"
   ]
  },
  {
   "cell_type": "code",
   "execution_count": 8,
   "id": "hidden-numbers",
   "metadata": {
    "slideshow": {
     "slide_type": "subslide"
    },
    "tags": []
   },
   "outputs": [],
   "source": [
    "const raw_tx = await tx.finalizeAllInputs().extractTransaction(true).toHex();"
   ]
  },
  {
   "cell_type": "code",
   "execution_count": 9,
   "id": "indirect-syria",
   "metadata": {
    "slideshow": {
     "slide_type": "fragment"
    },
    "tags": []
   },
   "outputs": [
    {
     "name": "stdout",
     "output_type": "stream",
     "text": [
      "0200000001f4e145bf0b00ae902bd59219d7b4f9029797604cabe542bcea604d95361cfdd7000000008a47304402204b2e2302bc77f0ff95734775c95d44427f49b276aae2458d227cb61ff301812c0220070b8ff9357e1ecec9b09d507144126cf1a1df0d50c51731b66a2faaebdf92fb014104c226c854246153a52226ea043de19a32f2e40bdb8c7b347381d527a96eefa3dcbfdc874c6f4e83224320477b898d332b4d990a62d927163631420765ef448accffffffff02204e0000000000001976a914146f282c2297b9f5dcfe66897eccc74d29eed56188ac00000000000000000e6a0c68656c6c6f2c20776f726c6400000000\n"
     ]
    }
   ],
   "source": [
    "raw_tx"
   ]
  },
  {
   "cell_type": "markdown",
   "id": "third-integrity",
   "metadata": {
    "slideshow": {
     "slide_type": "slide"
    },
    "tags": []
   },
   "source": [
    "## Reference\n",
    "- Greg Walk, Aug 2015, Transaction Data([https://learnmeabitcoin.com/technical/transaction-data](https://learnmeabitcoin.com/technical/transaction-data))\n",
    "- Royal Fork, Nov 2014, Deconstructing Transactions([http://royalforkblog.github.io/2014/11/20/txn-demo/](http://royalforkblog.github.io/2014/11/20/txn-demo/))\n",
    "- OpCodes ([https://en.bitcoin.it/wiki/Script#Constants](https://en.bitcoin.it/wiki/Script#Constants))"
   ]
  }
 ],
 "metadata": {
  "kernelspec": {
   "display_name": "TypeScript",
   "language": "typescript",
   "name": "tslab"
  },
  "language_info": {
   "codemirror_mode": {
    "mode": "typescript",
    "name": "javascript",
    "typescript": true
   },
   "file_extension": ".ts",
   "mimetype": "text/typescript",
   "name": "typescript",
   "version": "3.7.2"
  }
 },
 "nbformat": 4,
 "nbformat_minor": 5
}
